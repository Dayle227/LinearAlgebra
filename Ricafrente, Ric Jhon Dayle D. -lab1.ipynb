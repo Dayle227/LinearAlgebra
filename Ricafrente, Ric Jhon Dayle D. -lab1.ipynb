{
 "cells": [
  {
   "cell_type": "code",
   "execution_count": 3,
   "metadata": {},
   "outputs": [
    {
     "name": "stdout",
     "output_type": "stream",
     "text": [
      "Charmander at level 15\n",
      "Pidgey at level 11\n",
      "Sandshrew at level 18\n",
      "Rattata at level 5\n",
      "Abra at level 14\n"
     ]
    }
   ],
   "source": [
    "#answer for the cell 1\n",
    "party = {'Charmander':15,'Pidgey':11,'Sandshrew':18,'Rattata':5,'Abra':14} \n",
    "for Character,level in party.items():\n",
    "    print(Character,\"at level\",level)"
   ]
  },
  {
   "cell_type": "code",
   "execution_count": 5,
   "metadata": {},
   "outputs": [
    {
     "name": "stdout",
     "output_type": "stream",
     "text": [
      "['Dialga', 'Regigigas', 'Onix']\n"
     ]
    }
   ],
   "source": [
    "#answer for cell 2 \n",
    "reserves = [('Onix',10),('Slowpoke',18),('Dialga', 2),('Magikarp', 32),('Feebas', 22),('Swablu', 19),('Regigigas',3),('Unown',50)] \n",
    "picks = sorted(reserves, key=lambda x: x[1])[:3]\n",
    "print ([x[0]for x in picks])"
   ]
  },
  {
   "cell_type": "code",
   "execution_count": null,
   "metadata": {},
   "outputs": [],
   "source": []
  }
 ],
 "metadata": {
  "kernelspec": {
   "display_name": "Python 3",
   "language": "python",
   "name": "python3"
  },
  "language_info": {
   "codemirror_mode": {
    "name": "ipython",
    "version": 3
   },
   "file_extension": ".py",
   "mimetype": "text/x-python",
   "name": "python",
   "nbconvert_exporter": "python",
   "pygments_lexer": "ipython3",
   "version": "3.6.11"
  }
 },
 "nbformat": 4,
 "nbformat_minor": 4
}
