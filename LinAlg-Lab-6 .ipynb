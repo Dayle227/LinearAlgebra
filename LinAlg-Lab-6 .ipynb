{
 "cells": [
  {
   "cell_type": "markdown",
   "metadata": {},
   "source": [
    "# Linear Algebra for CpE\n",
    "## Laboratory 6 : Matrices"
   ]
  },
  {
   "cell_type": "markdown",
   "metadata": {},
   "source": [
    "Coded and submitted by:\n",
    "<br>\n",
    "Ricafrente, Ric Jhon Dayle D.\n",
    "<br>\n",
    "58011"
   ]
  },
  {
   "cell_type": "code",
   "execution_count": 4,
   "metadata": {},
   "outputs": [],
   "source": [
    "import numpy as np\n",
    "import matplotlib.pyplot as plt\n",
    "import scipy.linalg as la\n",
    "%matplotlib inline"
   ]
  },
  {
   "cell_type": "markdown",
   "metadata": {},
   "source": [
    "### Matrices"
   ]
  },
  {
   "cell_type": "markdown",
   "metadata": {},
   "source": [
    "## Activity"
   ]
  },
  {
   "cell_type": "markdown",
   "metadata": {},
   "source": [
    "### Task 1"
   ]
  },
  {
   "cell_type": "markdown",
   "metadata": {},
   "source": [
    "Create a function named `mat_desc()` that througouhly describes a matrix, it should: <br>\n",
    "1. Displays the shape, size, and rank of the matrix. <br>\n",
    "2. Displays whether the matrix is square or non-square. <br>\n",
    "3. Displays whether the matrix is an empty matrix. <br>\n",
    "4. Displays if the matrix is an identity, ones, or zeros matrix <br>\n",
    "   \n",
    "Use 5 sample matrices in which their shapes are not lower than $(3,3)$.\n",
    "In your methodology, create a flowchart discuss the functions and methods you have done. Present your results in the results section showing the description of each matrix you have declared."
   ]
  },
  {
   "cell_type": "code",
   "execution_count": 11,
   "metadata": {},
   "outputs": [],
   "source": [
    "## Function area\n",
    "def mat_desc(matrix):\n",
    "    mshape = print(\"The shape of the matrix is:\",matrix.shape)\n",
    "    msize  = print(\"The size of the matrix is:\", matrix.size)\n",
    "    mrank  = print(\"The rank of the matrix is:\", matrix.ndim)\n",
    "        \n",
    "        #matrix and non matrix\n",
    "    if matrix.shape[0] == matrix.shape[1]:\n",
    "        print(\"The matrix is a square\")\n",
    "    else:\n",
    "        print(\"The matris is non-square\")\n",
    "\n",
    "        #Whether the matrix is empty\n",
    "    if matrix.size > 0:\n",
    "        print(\"The matrix is not null\")\n",
    "    else:\n",
    "        print(\"The matrix is null\")\n",
    "    \n",
    "        #Display if the matrix is an identity\n",
    "    \n",
    "    if (np.eye(matrix.shape[0],matrix.shape[1])).any(): \n",
    "          print(\"The matrix is an identity\")\n",
    "    elif (np.eye(matrix.shape[0]!=matrix.shape[1])).any(): \n",
    "           print(\"The matrix is not an identity\")\n",
    "    else:0\n",
    "        #Display if the matrix is comprised of ones\n",
    "    if np.all(matrix) == 1:\n",
    "        print(\"The matrix is a ones matrix\")\n",
    "    else: \n",
    "        print(\"The matrix is not is not a ones matrix\")\n",
    "        \n",
    "        #Display if the matrix is coprised of zeros\n",
    "    if np.all(matrix) ==0:\n",
    "        print(\"The matrix is comprised of zeros\")\n",
    "    elif np.all(matrix) !=0:\n",
    "        print(\"The matrix is not comprised of zeros\")"
   ]
  },
  {
   "cell_type": "code",
   "execution_count": 14,
   "metadata": {},
   "outputs": [],
   "source": [
    "## Matrix declarations\n",
    "X = np.array([\n",
    "    [1,0,2],\n",
    "    [0,3,0],\n",
    "    [0,1,2]\n",
    "])\n",
    "\n",
    "Y = np.array([\n",
    "    [3,2,0],\n",
    "    [3,2,1],\n",
    "    [0,1,0]\n",
    "])\n",
    "Z = np.array([\n",
    "    [1,1,0],\n",
    "    [0,0,0],\n",
    "    [0,1,4]\n",
    "])\n",
    "T = np.array([\n",
    "    [1,0,1],\n",
    "    [1,0,1],\n",
    "    [0,1,0]\n",
    "])\n",
    "P = np.array([\n",
    "    [2,1,3],\n",
    "    [8,6,7],\n",
    "    [5,0,4]\n",
    "])\n"
   ]
  },
  {
   "cell_type": "code",
   "execution_count": 15,
   "metadata": {},
   "outputs": [
    {
     "name": "stdout",
     "output_type": "stream",
     "text": [
      "---X---\n",
      "The shape of the matrix is: (3, 3)\n",
      "The size of the matrix is: 9\n",
      "The rank of the matrix is: 2\n",
      "The matrix is a square\n",
      "The matrix is not null\n",
      "The matrix is an identity\n",
      "The matrix is not is not a ones matrix\n",
      "The matrix is comprised of zeros\n",
      "---Y---\n",
      "The shape of the matrix is: (3, 3)\n",
      "The size of the matrix is: 9\n",
      "The rank of the matrix is: 2\n",
      "The matrix is a square\n",
      "The matrix is not null\n",
      "The matrix is an identity\n",
      "The matrix is not is not a ones matrix\n",
      "The matrix is comprised of zeros\n",
      "---Z---\n",
      "The shape of the matrix is: (3, 3)\n",
      "The size of the matrix is: 9\n",
      "The rank of the matrix is: 2\n",
      "The matrix is a square\n",
      "The matrix is not null\n",
      "The matrix is an identity\n",
      "The matrix is not is not a ones matrix\n",
      "The matrix is comprised of zeros\n",
      "---T---\n",
      "The shape of the matrix is: (3, 3)\n",
      "The size of the matrix is: 9\n",
      "The rank of the matrix is: 2\n",
      "The matrix is a square\n",
      "The matrix is not null\n",
      "The matrix is an identity\n",
      "The matrix is not is not a ones matrix\n",
      "The matrix is comprised of zeros\n",
      "---P---\n",
      "The shape of the matrix is: (3, 3)\n",
      "The size of the matrix is: 9\n",
      "The rank of the matrix is: 2\n",
      "The matrix is a square\n",
      "The matrix is not null\n",
      "The matrix is an identity\n",
      "The matrix is not is not a ones matrix\n",
      "The matrix is comprised of zeros\n"
     ]
    }
   ],
   "source": [
    "## Test Areas\n",
    "print(\"---X---\")\n",
    "mat_desc(X)\n",
    "\n",
    "print(\"---Y---\")\n",
    "mat_desc(Y)\n",
    "\n",
    "print(\"---Z---\")\n",
    "mat_desc(Z)\n",
    "\n",
    "print(\"---T---\")\n",
    "mat_desc(T)\n",
    "\n",
    "print(\"---P---\")\n",
    "mat_desc(P)"
   ]
  }
 ],
 "metadata": {
  "kernelspec": {
   "display_name": "Python 3",
   "language": "python",
   "name": "python3"
  },
  "language_info": {
   "codemirror_mode": {
    "name": "ipython",
    "version": 3
   },
   "file_extension": ".py",
   "mimetype": "text/x-python",
   "name": "python",
   "nbconvert_exporter": "python",
   "pygments_lexer": "ipython3",
   "version": "3.8.3"
  }
 },
 "nbformat": 4,
 "nbformat_minor": 4
}
