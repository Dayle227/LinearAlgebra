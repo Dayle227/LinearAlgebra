{
 "cells": [
  {
   "cell_type": "markdown",
   "metadata": {},
   "source": [
    "# Laboratory 8 : System of Linear Equations <br>\n",
    "Coded and Submitted By:<br>\n",
    "Ricafrente, Ric Jhon Dayle D<br>\n",
    "201813672<br>\n",
    "58011"
   ]
  },
  {
   "cell_type": "code",
   "execution_count": 27,
   "metadata": {},
   "outputs": [],
   "source": [
    "import numpy as np\n",
    "import matplotlib.pyplot as plt\n",
    "import math\n",
    "%matplotlib inline\n"
   ]
  },
  {
   "cell_type": "markdown",
   "metadata": {},
   "source": [
    "The cost of admission to a popular music concert was 162 dollars for 12 children and 3 adults. The admission was 122 dollars for 8 children and 3 adults in another music concert. How much was the admission for each child and adult?\n",
    "$$\\begin{bmatrix} 3a + 12c\\\\ 3a + 8c \\end{bmatrix}\\cdot\\begin{bmatrix}a\\\\c\\end{bmatrix} = \\begin{bmatrix}162\\\\122\\end{bmatrix} $$\n"
   ]
  },
  {
   "cell_type": "code",
   "execution_count": 28,
   "metadata": {},
   "outputs": [
    {
     "name": "stdout",
     "output_type": "stream",
     "text": [
      "[[ 3 12]\n",
      " [ 3  8]]\n",
      "(2, 2)\n",
      "[[162]\n",
      " [122]]\n",
      "(2, 1)\n"
     ]
    }
   ],
   "source": [
    "people = np.array([\n",
    "    [3, 12],\n",
    "    [3, 8]\n",
    "])\n",
    "cost = np.array([\n",
    "    [162],\n",
    "    [122]\n",
    "])\n",
    "print (people)\n",
    "print (people.shape)\n",
    "print (cost)\n",
    "print (cost.shape)\n"
   ]
  },
  {
   "cell_type": "code",
   "execution_count": 35,
   "metadata": {},
   "outputs": [
    {
     "name": "stdout",
     "output_type": "stream",
     "text": [
      "The cost of admission per adult is: $14.00\n",
      "The cost of admission per child is: $10.00\n"
     ]
    }
   ],
   "source": [
    "prices = np.linalg.inv(people) @ cost  \n",
    "print('The cost of admission per adult is: ${:.2f}'.format(float(prices[0])))\n",
    "print('The cost of admission per child is: ${:.2f}'.format(float(prices[1])))\n"
   ]
  },
  {
   "cell_type": "code",
   "execution_count": 30,
   "metadata": {},
   "outputs": [
    {
     "data": {
      "text/plain": [
       "array([[-0.66666667,  1.        ],\n",
       "       [ 0.25      , -0.25      ]])"
      ]
     },
     "execution_count": 30,
     "metadata": {},
     "output_type": "execute_result"
    }
   ],
   "source": [
    "population_inv = np.linalg.inv(population)\n",
    "population_inv"
   ]
  },
  {
   "cell_type": "code",
   "execution_count": 32,
   "metadata": {},
   "outputs": [
    {
     "data": {
      "text/plain": [
       "array([[14.],\n",
       "       [10.]])"
      ]
     },
     "execution_count": 32,
     "metadata": {},
     "output_type": "execute_result"
    }
   ],
   "source": [
    "r = population_inv @ cost\n",
    "r"
   ]
  },
  {
   "cell_type": "code",
   "execution_count": null,
   "metadata": {},
   "outputs": [],
   "source": [
    "Y_1 = population @ r\n",
    "np.array_equal(Y_1, cost)"
   ]
  },
  {
   "cell_type": "code",
   "execution_count": 16,
   "metadata": {},
   "outputs": [
    {
     "data": {
      "text/plain": [
       "array([[14.],\n",
       "       [10.]])"
      ]
     },
     "execution_count": 16,
     "metadata": {},
     "output_type": "execute_result"
    }
   ],
   "source": [
    "population_sol = np.linalg.solve(people,cost)\n",
    "population_sol"
   ]
  },
  {
   "cell_type": "code",
   "execution_count": null,
   "metadata": {},
   "outputs": [],
   "source": []
  }
 ],
 "metadata": {
  "kernelspec": {
   "display_name": "Python 3",
   "language": "python",
   "name": "python3"
  },
  "language_info": {
   "codemirror_mode": {
    "name": "ipython",
    "version": 3
   },
   "file_extension": ".py",
   "mimetype": "text/x-python",
   "name": "python",
   "nbconvert_exporter": "python",
   "pygments_lexer": "ipython3",
   "version": "3.8.3"
  }
 },
 "nbformat": 4,
 "nbformat_minor": 4
}
