{
  "nbformat": 4,
  "nbformat_minor": 0,
  "metadata": {
    "colab": {
      "name": "58011_Ricafrente_RicJhonDayle_PExam.ipynb",
      "provenance": [],
      "authorship_tag": "ABX9TyNOofnOR6PbSLDYTvF7fALz",
      "include_colab_link": true
    },
    "kernelspec": {
      "name": "python3",
      "display_name": "Python 3"
    }
  },
  "cells": [
    {
      "cell_type": "markdown",
      "metadata": {
        "id": "view-in-github",
        "colab_type": "text"
      },
      "source": [
        "<a href=\"https://colab.research.google.com/github/Dayle227/LinearAlgebra/blob/main/58011_Ricafrente_RicJhonDayle_PExam.ipynb\" target=\"_parent\"><img src=\"https://colab.research.google.com/assets/colab-badge.svg\" alt=\"Open In Colab\"/></a>"
      ]
    },
    {
      "cell_type": "markdown",
      "metadata": {
        "id": "Eu-l5P74tTXn"
      },
      "source": [
        "# Linear Algebra Practical Exam\n",
        "by Ricafrente, RicJhon dayle <br>\n",
        "10/9/2020"
      ]
    },
    {
      "cell_type": "markdown",
      "metadata": {
        "id": "sg_cEEkqtgQt"
      },
      "source": [
        "## Part 1: Vectors"
      ]
    },
    {
      "cell_type": "code",
      "metadata": {
        "id": "eVyTlvw6tkQ6",
        "outputId": "3647e727-1acc-40e4-98d0-4d1e5936a2cc",
        "colab": {
          "base_uri": "https://localhost:8080/",
          "height": 129
        }
      },
      "source": [
        "import numpy as np\n",
        "\n",
        "student_number '201812814'\n",
        "np.random.seed(int(student_number[-1:-4:-1]))\n",
        "\n",
        "x = np.random.randint(low=0, high=100, size=(3,))\n",
        "y = np.random.randint(low=0, high=100, size=(3,))\n",
        "\n",
        "#vectors\n",
        "Z1 = np.array([a[0],b[0]])\n",
        "Z2 = np.array([a[0],-b[1]])\n",
        "Z3 = np.array([b[2],0]) \n",
        "\n",
        "#shapes.\n",
        "Z1t = z1.shape\n",
        "Z2t = z2.shape\n",
        "Z3t = z3.shape\n",
        "\n",
        "#rank\n",
        "Z1h = rank1\n",
        "Z2h = rank2\n",
        "Z3h = rank3\n",
        "\n",
        "\n",
        "disp = Z1 + Z2 + Z3 \n",
        "print(\"Vectors\")\n",
        "print(Z1)\n",
        "print(Z2)\n",
        "print(Z3)\n",
        "print(\"\\nShapes\")\n",
        "print(Z1t)\n",
        "print(Z2t)\n",
        "print(Z3t)\n",
        "print(\"\\nRank\")\n",
        "print(Z1h)\n",
        "print(Z2h)\n",
        "print(Z3h)"
      ],
      "execution_count": 8,
      "outputs": [
        {
          "output_type": "error",
          "ename": "SyntaxError",
          "evalue": "ignored",
          "traceback": [
            "\u001b[0;36m  File \u001b[0;32m\"<ipython-input-8-cf84835af1cb>\"\u001b[0;36m, line \u001b[0;32m3\u001b[0m\n\u001b[0;31m    student_number '201812814'.\u001b[0m\n\u001b[0m                             ^\u001b[0m\n\u001b[0;31mSyntaxError\u001b[0m\u001b[0;31m:\u001b[0m invalid syntax\n"
          ]
        }
      ]
    }
  ]
}